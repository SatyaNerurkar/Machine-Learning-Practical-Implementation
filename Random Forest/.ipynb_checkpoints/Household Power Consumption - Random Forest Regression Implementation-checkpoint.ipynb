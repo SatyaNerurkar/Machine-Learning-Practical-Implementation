{
 "cells": [
  {
   "cell_type": "code",
   "execution_count": null,
   "id": "e554bfd4",
   "metadata": {},
   "outputs": [],
   "source": [
    "import warnings\n",
    "warnings.filterwarnings(\"ignore\")\n",
    "\n",
    "import pymongo\n",
    "\n",
    "import pandas as pd\n",
    "import numpy as np\n",
    "\n",
    "from sklearn.model_selection import train_test_split\n",
    "from sklearn.preprocessing import StandardScaler\n",
    "\n",
    "from sklearn.tree import DecisionTreeRegressor\n",
    "from sklearn.model_selection import GridSearchCV\n",
    "\n",
    "from sklearn.metrics import mean_squared_error, mean_absolute_error, r2_score\n",
    "\n",
    "%matplotlib inline"
   ]
  },
  {
   "cell_type": "markdown",
   "id": "eb2de662",
   "metadata": {},
   "source": [
    "### Data Ingestion"
   ]
  },
  {
   "cell_type": "code",
   "execution_count": null,
   "id": "2364927a",
   "metadata": {},
   "outputs": [],
   "source": [
    "myclient = pymongo.MongoClient(\"mongodb+srv://satya:<password>@cluster1.9frgf.mongodb.net/?retryWrites=true&w=majority\", tls=True, tlsAllowInvalidCertificates=True)\n",
    "\n",
    "mydb = myclient[\"Household_Power_Consumption_Database\"]\n",
    "\n",
    "collection = mydb[\"Household_Power_Consumption_Collection\"]"
   ]
  },
  {
   "cell_type": "code",
   "execution_count": null,
   "id": "871a9164",
   "metadata": {},
   "outputs": [],
   "source": [
    "mongodb_extract = collection.find()"
   ]
  },
  {
   "cell_type": "code",
   "execution_count": null,
   "id": "eebc92d3",
   "metadata": {},
   "outputs": [],
   "source": [
    "df_mongodb = pd.DataFrame(mongodb_extract)\n",
    "\n",
    "df_mongodb.head()"
   ]
  },
  {
   "cell_type": "code",
   "execution_count": null,
   "id": "e293eb8f",
   "metadata": {},
   "outputs": [],
   "source": [
    "df_mongodb.drop(['_id', 'index'], axis = 1, inplace = True)\n",
    "\n",
    "df_mongodb.head()"
   ]
  },
  {
   "cell_type": "markdown",
   "id": "44930e89",
   "metadata": {},
   "source": [
    "##### Creating Dependent and Independent features"
   ]
  },
  {
   "cell_type": "code",
   "execution_count": null,
   "id": "ad18e0d8",
   "metadata": {},
   "outputs": [],
   "source": [
    "X = df_mongodb.drop(\"Total_meter_reading\", axis =1)\n",
    "\n",
    "y = df_mongodb[\"Total_meter_reading\"]"
   ]
  },
  {
   "cell_type": "code",
   "execution_count": null,
   "id": "bbcd08f4",
   "metadata": {},
   "outputs": [],
   "source": [
    "X.head()"
   ]
  },
  {
   "cell_type": "code",
   "execution_count": null,
   "id": "3e163af5",
   "metadata": {},
   "outputs": [],
   "source": [
    "y.head()"
   ]
  },
  {
   "cell_type": "markdown",
   "id": "e7eb544a",
   "metadata": {},
   "source": [
    "##### Train test split"
   ]
  },
  {
   "cell_type": "code",
   "execution_count": null,
   "id": "0b5f0c5e",
   "metadata": {},
   "outputs": [],
   "source": [
    "X_train, X_test, y_train, y_test = train_test_split(X, y, test_size=0.33, random_state=42)"
   ]
  },
  {
   "cell_type": "code",
   "execution_count": null,
   "id": "6a2e417b",
   "metadata": {},
   "outputs": [],
   "source": [
    "print(\"Independent train dataset contains {} rows and {} columns.\".format(X_train.shape[0],X_train.shape[1]))\n",
    "print(\"Independent test dataset contains {} rows and {} columns.\".format(X_test.shape[0],X_test.shape[1]))\n",
    "print(\"Dependent train dataset contains {} rows.\".format(y_train.shape[0]))\n",
    "print(\"Dependent test dataset contains {} rows.\".format(y_test.shape[0]))"
   ]
  },
  {
   "cell_type": "markdown",
   "id": "271978a8",
   "metadata": {},
   "source": [
    "###### Feature scaling"
   ]
  },
  {
   "cell_type": "code",
   "execution_count": null,
   "id": "375e3bc5",
   "metadata": {},
   "outputs": [],
   "source": [
    "scaler = StandardScaler()"
   ]
  },
  {
   "cell_type": "code",
   "execution_count": null,
   "id": "3c9ae447",
   "metadata": {},
   "outputs": [],
   "source": [
    "X_train = scaler.fit_transform(X_train)\n",
    "\n",
    "X_test = scaler.transform(X_test)"
   ]
  },
  {
   "cell_type": "markdown",
   "id": "6fcf30bf",
   "metadata": {},
   "source": [
    "### Model Training"
   ]
  },
  {
   "cell_type": "code",
   "execution_count": null,
   "id": "8687e47c",
   "metadata": {},
   "outputs": [],
   "source": [
    "decision_tree_regressor_model = DecisionTreeRegressor(criterion='mse')\n",
    "\n",
    "decision_tree_regressor_model.fit(X_train,y_train)"
   ]
  },
  {
   "cell_type": "code",
   "execution_count": null,
   "id": "9788eb4b-8a00-401e-9c13-318269790e4e",
   "metadata": {
    "scrolled": true
   },
   "outputs": [],
   "source": [
    "from sklearn import tree\n",
    "\n",
    "import matplotlib.pyplot as plt\n",
    "\n",
    "fig = plt.figure(figsize=(30,15))\n",
    "\n",
    "tree.plot_tree(decision_tree_regressor_model, filled = True, fontsize =10)"
   ]
  },
  {
   "cell_type": "code",
   "execution_count": null,
   "id": "d7560562-ae9f-4320-ad8f-0ad7ce355fca",
   "metadata": {},
   "outputs": [],
   "source": [
    "fig.savefig('Decision Tree Reg')"
   ]
  },
  {
   "cell_type": "code",
   "execution_count": null,
   "id": "b55da8bd",
   "metadata": {},
   "outputs": [],
   "source": [
    "y_pred = decision_tree_regressor_model.predict(X_test)"
   ]
  },
  {
   "cell_type": "code",
   "execution_count": null,
   "id": "576a33d4",
   "metadata": {},
   "outputs": [],
   "source": [
    "def print_metrics(y_test,Prediction):\n",
    "    print('Mean Squared Error is: ', mean_squared_error(y_test,y_pred))\n",
    "    print('Mean Absolute Error is: ', mean_absolute_error(y_test,y_pred))\n",
    "    print('Root Mean Squared Error is: ',np.sqrt(mean_squared_error(y_test,y_pred)))\n",
    "    print('Accuracy is: {} %'.format(round((r2_score(y_test, y_pred))*100,3)))"
   ]
  },
  {
   "cell_type": "code",
   "execution_count": null,
   "id": "237adf09",
   "metadata": {},
   "outputs": [],
   "source": [
    "print_metrics(y_test,y_pred)"
   ]
  },
  {
   "cell_type": "markdown",
   "id": "29ee6fa1",
   "metadata": {},
   "source": [
    "###### Hyperparameter Tuning "
   ]
  },
  {
   "cell_type": "code",
   "execution_count": null,
   "id": "100aca3d",
   "metadata": {},
   "outputs": [],
   "source": [
    "param_grid={\n",
    "    'max_depth':[2,4,6,8,10],\n",
    "    'criterion':['mse', 'mae'],\n",
    "#    'min_samples_split':[0.25, 0.5, 1.0],\n",
    "#    'max_features':[0.25, 0.5, 1.0]\n",
    "}"
   ]
  },
  {
   "cell_type": "code",
   "execution_count": null,
   "id": "cf11848c",
   "metadata": {},
   "outputs": [],
   "source": [
    "decision_tree_regressor_best_model = GridSearchCV(DecisionTreeRegressor(), param_grid=param_grid)\n",
    "\n",
    "decision_tree_regressor_best_model.fit(X_train,y_train)"
   ]
  },
  {
   "cell_type": "code",
   "execution_count": null,
   "id": "ea19c889",
   "metadata": {},
   "outputs": [],
   "source": [
    "decision_tree_regressor_best_model.best_params_"
   ]
  },
  {
   "cell_type": "code",
   "execution_count": null,
   "id": "7a83576d",
   "metadata": {},
   "outputs": [],
   "source": [
    "Decision_Tree_Regressor_Best_Model = DecisionTreeRegressor(criterion='mse', max_depth=10)"
   ]
  },
  {
   "cell_type": "code",
   "execution_count": null,
   "id": "447d1457",
   "metadata": {},
   "outputs": [],
   "source": [
    "Decision_Tree_Regressor_Best_Model.fit(X_train,y_train)"
   ]
  },
  {
   "cell_type": "code",
   "execution_count": null,
   "id": "74989d0b-fa21-45ca-b099-9015b48b8cb8",
   "metadata": {},
   "outputs": [],
   "source": [
    "y_pred_tunned = Decision_Tree_Regressor_Best_Model.predict(X_test)"
   ]
  },
  {
   "cell_type": "code",
   "execution_count": null,
   "id": "da136fef-791d-4a25-bdd1-22bc25b1b7a5",
   "metadata": {},
   "outputs": [],
   "source": [
    "print_metrics(y_test,y_pred_tunned)"
   ]
  },
  {
   "cell_type": "markdown",
   "id": "dc75dd51",
   "metadata": {},
   "source": [
    "# Thank You!"
   ]
  }
 ],
 "metadata": {
  "kernelspec": {
   "display_name": "Python 3 (ipykernel)",
   "language": "python",
   "name": "python3"
  },
  "language_info": {
   "codemirror_mode": {
    "name": "ipython",
    "version": 3
   },
   "file_extension": ".py",
   "mimetype": "text/x-python",
   "name": "python",
   "nbconvert_exporter": "python",
   "pygments_lexer": "ipython3",
   "version": "3.9.7"
  }
 },
 "nbformat": 4,
 "nbformat_minor": 5
}
